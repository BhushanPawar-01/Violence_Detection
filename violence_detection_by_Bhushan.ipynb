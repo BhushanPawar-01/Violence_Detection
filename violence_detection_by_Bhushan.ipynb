{
  "nbformat": 4,
  "nbformat_minor": 0,
  "metadata": {
    "colab": {
      "provenance": [],
      "gpuType": "T4",
      "authorship_tag": "ABX9TyNwhmgXqo6bStwe0Tk9joVq",
      "include_colab_link": true
    },
    "kernelspec": {
      "name": "python3",
      "display_name": "Python 3"
    },
    "language_info": {
      "name": "python"
    },
    "accelerator": "GPU"
  },
  "cells": [
    {
      "cell_type": "markdown",
      "metadata": {
        "id": "view-in-github",
        "colab_type": "text"
      },
      "source": [
        "<a href=\"https://colab.research.google.com/github/BhushanPawar-01/Violence_Detection/blob/main/violence_detection_by_Bhushan.ipynb\" target=\"_parent\"><img src=\"https://colab.research.google.com/assets/colab-badge.svg\" alt=\"Open In Colab\"/></a>"
      ]
    },
    {
      "cell_type": "markdown",
      "source": [
        "# __Violence Detection__  \n",
        "*by Bhushan Pawar*\n",
        "\n",
        "---\n",
        "\n",
        "\n"
      ],
      "metadata": {
        "id": "qBcBXlXOaItq"
      }
    },
    {
      "cell_type": "code",
      "source": [
        "# Importing dataset directly from kaggle\n",
        "import os\n",
        "import sys\n",
        "from tempfile import NamedTemporaryFile\n",
        "from urllib.request import urlopen\n",
        "from urllib.parse import unquote, urlparse\n",
        "from urllib.error import HTTPError\n",
        "from zipfile import ZipFile\n",
        "import tarfile\n",
        "import shutil\n",
        "\n",
        "CHUNK_SIZE = 40960\n",
        "DATA_SOURCE_MAPPING = 'real-life-violence-situations-dataset:https%3A%2F%2Fstorage.googleapis.com%2Fkaggle-data-sets%2F176381%2F397693%2Fbundle%2Farchive.zip%3FX-Goog-Algorithm%3DGOOG4-RSA-SHA256%26X-Goog-Credential%3Dgcp-kaggle-com%2540kaggle-161607.iam.gserviceaccount.com%252F20240319%252Fauto%252Fstorage%252Fgoog4_request%26X-Goog-Date%3D20240319T055338Z%26X-Goog-Expires%3D259200%26X-Goog-SignedHeaders%3Dhost%26X-Goog-Signature%3D399dffc174b06055c1be5f278c4d90222ac582931c993df2fe68ff064647415d426ca2f364779cbb4af3fd6b62b433d25e03099b02400cee4abb8242bcf25e99f2a0251d699da2dacedee4623d3a3c108081a0b06c44e355654900bfc0fc69dc9bb206003528a7299478bf546faca7240c2d08fd754a94749dbb03e4165b9cc29a101749f24ffadcc4c6ed0cb707acd28defcd6867807349d3fedb2a9f5ffc5b9591ccf576469caf9d4c60f757da285334f030926da668023cc743fc07e16085fa8eb2d31bb8590e70f1a9992e7e1a9840a75348d502fce8fd395269420573022c5ed8475b1ee4ade88003bfaf822a6d04e734fb1b562dcfdda93ac3206f9528'\n",
        "\n",
        "KAGGLE_INPUT_PATH='/kaggle/input'\n",
        "KAGGLE_WORKING_PATH='/kaggle/working'\n",
        "KAGGLE_SYMLINK='kaggle'\n",
        "\n",
        "!umount /kaggle/input/ 2> /dev/null\n",
        "shutil.rmtree('/kaggle/input', ignore_errors=True)\n",
        "os.makedirs(KAGGLE_INPUT_PATH, 0o777, exist_ok=True)\n",
        "os.makedirs(KAGGLE_WORKING_PATH, 0o777, exist_ok=True)\n",
        "\n",
        "try:\n",
        "  os.symlink(KAGGLE_INPUT_PATH, os.path.join(\"..\", 'input'), target_is_directory=True)\n",
        "except FileExistsError:\n",
        "  pass\n",
        "try:\n",
        "  os.symlink(KAGGLE_WORKING_PATH, os.path.join(\"..\", 'working'), target_is_directory=True)\n",
        "except FileExistsError:\n",
        "  pass\n",
        "\n",
        "for data_source_mapping in DATA_SOURCE_MAPPING.split(','):\n",
        "    directory, download_url_encoded = data_source_mapping.split(':')\n",
        "    download_url = unquote(download_url_encoded)\n",
        "    filename = urlparse(download_url).path\n",
        "    destination_path = os.path.join(KAGGLE_INPUT_PATH, directory)\n",
        "    try:\n",
        "        with urlopen(download_url) as fileres, NamedTemporaryFile() as tfile:\n",
        "            total_length = fileres.headers['content-length']\n",
        "            print(f'Downloading {directory}, {total_length} bytes compressed')\n",
        "            dl = 0\n",
        "            data = fileres.read(CHUNK_SIZE)\n",
        "            while len(data) > 0:\n",
        "                dl += len(data)\n",
        "                tfile.write(data)\n",
        "                done = int(50 * dl / int(total_length))\n",
        "                sys.stdout.write(f\"\\r[{'=' * done}{' ' * (50-done)}] {dl} bytes downloaded\")\n",
        "                sys.stdout.flush()\n",
        "                data = fileres.read(CHUNK_SIZE)\n",
        "            if filename.endswith('.zip'):\n",
        "              with ZipFile(tfile) as zfile:\n",
        "                zfile.extractall(destination_path)\n",
        "            else:\n",
        "              with tarfile.open(tfile.name) as tarfile:\n",
        "                tarfile.extractall(destination_path)\n",
        "            print(f'\\nDownloaded and uncompressed: {directory}')\n",
        "    except HTTPError as e:\n",
        "        print(f'Failed to load (likely expired) {download_url} to path {destination_path}')\n",
        "        continue\n",
        "    except OSError as e:\n",
        "        print(f'Failed to load {download_url} to path {destination_path}')\n",
        "        continue\n",
        "\n",
        "print('Data source import complete.')\n"
      ],
      "metadata": {
        "id": "cGa8V1BnNERR",
        "colab": {
          "base_uri": "https://localhost:8080/"
        },
        "outputId": "daff62a4-d19b-41de-cb7a-1fd099829d54"
      },
      "execution_count": null,
      "outputs": [
        {
          "output_type": "stream",
          "name": "stdout",
          "text": [
            "Downloading real-life-violence-situations-dataset, 3847870446 bytes compressed\n",
            "[==================================================] 3847870446 bytes downloaded\n",
            "Downloaded and uncompressed: real-life-violence-situations-dataset\n",
            "Data source import complete.\n"
          ]
        }
      ]
    },
    {
      "cell_type": "markdown",
      "source": [
        "\n",
        "\n",
        "---\n",
        "\n",
        "\n",
        "__Importing Important Libraries__"
      ],
      "metadata": {
        "id": "jzrCr1mnepp1"
      }
    },
    {
      "cell_type": "code",
      "source": [
        "import shutil\n",
        "import cv2\n",
        "import math\n",
        "import random\n",
        "import os\n",
        "import sys\n",
        "import numpy as np\n",
        "import datetime as dt\n",
        "from collections import deque\n",
        "import seaborn as sns\n",
        "import matplotlib.pyplot as plt\n",
        "plt.style.use(\"seaborn\")\n",
        "%matplotlib inline"
      ],
      "metadata": {
        "id": "oUcsOBcCP-IY",
        "colab": {
          "base_uri": "https://localhost:8080/"
        },
        "outputId": "1fb84c84-618e-4239-943c-1e064ab079eb"
      },
      "execution_count": null,
      "outputs": [
        {
          "output_type": "stream",
          "name": "stderr",
          "text": [
            "<ipython-input-2-88879d7e7b22>:12: MatplotlibDeprecationWarning: The seaborn styles shipped by Matplotlib are deprecated since 3.6, as they no longer correspond to the styles shipped by seaborn. However, they will remain available as 'seaborn-v0_8-<style>'. Alternatively, directly use the seaborn API instead.\n",
            "  plt.style.use(\"seaborn\")\n"
          ]
        }
      ]
    },
    {
      "cell_type": "code",
      "source": [
        "from sklearn.model_selection import train_test_split\n",
        "\n",
        "import tensorflow as tf\n",
        "import keras\n",
        "from keras.layers import *\n",
        "from keras.models import Sequential\n",
        "from tensorflow.keras.utils import to_categorical\n",
        "from keras.callbacks import EarlyStopping\n",
        "from tensorflow.keras.utils import plot_model\n",
        "from tensorflow.keras.layers import Input, TimeDistributed, Flatten, Dropout, Dense, Conv2D, MaxPooling2D, BatchNormalization\n",
        "\n",
        "from sklearn.metrics import classification_report\n",
        "from sklearn.metrics import confusion_matrix"
      ],
      "metadata": {
        "id": "VZsa3aRiNEXA"
      },
      "execution_count": null,
      "outputs": []
    },
    {
      "cell_type": "markdown",
      "source": [
        "\n",
        "\n",
        "---\n",
        "\n",
        "\n",
        "**Video Processing and Dataset Creation**\n",
        "\n",
        "\n"
      ],
      "metadata": {
        "id": "F4SkCec4eyBW"
      }
    },
    {
      "cell_type": "code",
      "source": [
        "# Class directories\n",
        "Non_Violence_Videos_Dir = '../input/real-life-violence-situations-dataset/Real Life Violence Dataset/NonViolence/'\n",
        "Violence_Videos_Dir = '../input/real-life-violence-situations-dataset/Real Life Violence Dataset/Violence/'\n",
        "\n",
        "# Retrieving list of all video files in a class directory\n",
        "NonViolence_files_names_list = os.listdir(Non_Violence_Videos_Dir)\n",
        "Violence_files_names_list = os.listdir(Violence_Videos_Dir)\n",
        "\n",
        "# Randomly select video files from class directory\n",
        "Random_NonViolence_Video = random.choice(NonViolence_files_names_list[:500])\n",
        "Random_Violence_Video = random.choice(Violence_files_names_list[:500])"
      ],
      "metadata": {
        "id": "uRT8-H9MXZbk"
      },
      "execution_count": null,
      "outputs": []
    },
    {
      "cell_type": "code",
      "source": [
        "# Specify the height and width to which each video frame will be resized in our dataset.\n",
        "IMAGE_HEIGHT , IMAGE_WIDTH = 64, 64\n",
        "\n",
        "# Specify the number of frames of a video that will be fed to the model as one sequence.\n",
        "SEQUENCE_LENGTH = 16\n",
        "\n",
        "DATASET_DIR = '../input/real-life-violence-situations-dataset/Real Life Violence Dataset/'\n",
        "\n",
        "CLASSES_LIST = ['NonViolence', 'Violence']"
      ],
      "metadata": {
        "id": "VN-jYbZiXsWC"
      },
      "execution_count": null,
      "outputs": []
    },
    {
      "cell_type": "code",
      "source": [
        "# The frame_extraction function performs frame extraction from a video file,\n",
        "# resizing and normalizing each frame before appending it to the frames list.\n",
        "\n",
        "def frames_extraction(video_path):\n",
        "    frames_list = []\n",
        "    video_reader = cv2.VideoCapture(video_path)\n",
        "    video_frames_count = int(video_reader.get(cv2.CAP_PROP_FRAME_COUNT))\n",
        "    skip_frames_window = max(int(video_frames_count/SEQUENCE_LENGTH), 1)\n",
        "\n",
        "    for frame_counter in range(SEQUENCE_LENGTH):\n",
        "        video_reader.set(cv2.CAP_PROP_POS_FRAMES, frame_counter * skip_frames_window)\n",
        "        success, frame = video_reader.read()\n",
        "        if not success:\n",
        "            break\n",
        "        resized_frame = cv2.resize(frame, (IMAGE_HEIGHT, IMAGE_WIDTH))\n",
        "        normalized_frame = resized_frame / 255\n",
        "        frames_list.append(normalized_frame)\n",
        "    video_reader.release()\n",
        "    return frames_list"
      ],
      "metadata": {
        "id": "miBAK8e8Xx8U"
      },
      "execution_count": null,
      "outputs": []
    },
    {
      "cell_type": "code",
      "source": [
        "# The create_dataset function generates a dataset by extracting frames from\n",
        "# video files, matching them to a predefined sequence length, and organizing\n",
        "# them with corresponding labels and file paths.\n",
        "\n",
        "def create_dataset():\n",
        "    features = []\n",
        "    labels = []\n",
        "    video_files_paths = []\n",
        "\n",
        "    for class_index, class_name in enumerate(CLASSES_LIST):\n",
        "        print(f'Extracting Data of Class: {class_name}')\n",
        "        files_list = os.listdir(os.path.join(DATASET_DIR, class_name))\n",
        "        for file_name in files_list:\n",
        "            video_file_path = os.path.join(DATASET_DIR, class_name, file_name)\n",
        "            frames = frames_extraction(video_file_path)\n",
        "            if len(frames) == SEQUENCE_LENGTH:\n",
        "                features.append(frames)\n",
        "                labels.append(class_index)\n",
        "                video_files_paths.append(video_file_path)\n",
        "\n",
        "    features = np.asarray(features)\n",
        "    labels = np.array(labels)\n",
        "\n",
        "    return features, labels, video_files_paths\n"
      ],
      "metadata": {
        "id": "MBoFMrXyX7jR"
      },
      "execution_count": null,
      "outputs": []
    },
    {
      "cell_type": "code",
      "source": [
        "# Creating dataset\n",
        "features, labels, video_files_paths = create_dataset()"
      ],
      "metadata": {
        "colab": {
          "base_uri": "https://localhost:8080/"
        },
        "id": "tUFwkQ06YHUY",
        "outputId": "c2ef747d-c71d-439f-8b70-c4c56e59b5d4"
      },
      "execution_count": null,
      "outputs": [
        {
          "output_type": "stream",
          "name": "stdout",
          "text": [
            "Extracting Data of Class: NonViolence\n",
            "Extracting Data of Class: Violence\n"
          ]
        }
      ]
    },
    {
      "cell_type": "code",
      "source": [
        "# Save the features, labels, and video_files_path,\n",
        "#this are stored only for current session but can be downloaded to use in future.\n",
        "\n",
        "np.save('features.npy', features)\n",
        "np.save('labels.npy', labels)\n",
        "np.save('video_files_paths.npy', video_files_paths)"
      ],
      "metadata": {
        "id": "HEHZQZlIYSb7"
      },
      "execution_count": null,
      "outputs": []
    },
    {
      "cell_type": "markdown",
      "source": [
        "\n",
        "\n",
        "---\n",
        "\n",
        "\n",
        "**Data Preprocessing**"
      ],
      "metadata": {
        "id": "7Ml48H4hORvU"
      }
    },
    {
      "cell_type": "code",
      "source": [
        "# Load dataset\n",
        "features = np.load('features.npy')\n",
        "labels = np.load('labels.npy')\n",
        "video_files_paths = np.load('video_files_paths.npy')"
      ],
      "metadata": {
        "id": "q2pXccsaMkOc"
      },
      "execution_count": null,
      "outputs": []
    },
    {
      "cell_type": "code",
      "source": [
        "# Perform one hot encoding on labels\n",
        "one_hot_encoded_labels = to_categorical(labels)"
      ],
      "metadata": {
        "id": "-smHJS9iONyj"
      },
      "execution_count": null,
      "outputs": []
    },
    {
      "cell_type": "code",
      "source": [
        "# Perform train test split\n",
        "features_train, features_test, labels_train, labels_test = train_test_split(features, one_hot_encoded_labels, test_size=0.1,\n",
        "                                                                            shuffle=True, random_state=42)"
      ],
      "metadata": {
        "id": "ntsKesshOlCb"
      },
      "execution_count": null,
      "outputs": []
    },
    {
      "cell_type": "code",
      "source": [
        "print(features_train.shape, labels_train.shape)\n",
        "print(features_test.shape, labels_test.shape)"
      ],
      "metadata": {
        "colab": {
          "base_uri": "https://localhost:8080/"
        },
        "id": "eLamLgShOalT",
        "outputId": "91967049-5c50-4fac-bd3f-baed732029dc"
      },
      "execution_count": null,
      "outputs": [
        {
          "output_type": "stream",
          "name": "stdout",
          "text": [
            "(1800, 16, 64, 64, 3) (1800, 2)\n",
            "(200, 16, 64, 64, 3) (200, 2)\n"
          ]
        }
      ]
    },
    {
      "cell_type": "markdown",
      "source": [
        "\n",
        "\n",
        "---\n",
        "**Model Building**\n"
      ],
      "metadata": {
        "id": "hCSPaSgvPOUo"
      }
    },
    {
      "cell_type": "code",
      "source": [
        "CLASSES_LIST = ['NonViolence', 'Violence']"
      ],
      "metadata": {
        "id": "0WelGOjnG8D0"
      },
      "execution_count": null,
      "outputs": []
    },
    {
      "cell_type": "code",
      "source": [
        "\n",
        "def create_model(input_shape=(16, 64, 64, 3)):\n",
        "    model = Sequential()\n",
        "    model.add(Input(shape=input_shape))\n",
        "\n",
        "    # Feature Extraction Layers\n",
        "    model.add(TimeDistributed(Conv2D(filters=32, kernel_size=(3, 3), activation='relu', padding='same')))\n",
        "    model.add(TimeDistributed(BatchNormalization()))\n",
        "    model.add(TimeDistributed(MaxPooling2D(pool_size=(2, 2))))\n",
        "\n",
        "    model.add(TimeDistributed(Conv2D(filters=64, kernel_size=(3, 3), activation='relu', padding='same')))\n",
        "    model.add(TimeDistributed(BatchNormalization()))\n",
        "    model.add(TimeDistributed(MaxPooling2D(pool_size=(2, 2))))\n",
        "\n",
        "    model.add(TimeDistributed(Conv2D(filters=128, kernel_size=(3, 3), activation='relu', padding='same')))\n",
        "    model.add(TimeDistributed(BatchNormalization()))\n",
        "    model.add(TimeDistributed(MaxPooling2D(pool_size=(2, 2))))\n",
        "\n",
        "    model.add(TimeDistributed(Dropout(0.25)))\n",
        "    model.add(TimeDistributed(Flatten()))\n",
        "\n",
        "    # Layers responsible for classification\n",
        "    lstm_fw = LSTM(units=32, return_sequences=True)\n",
        "    lstm_bw = LSTM(units=32, go_backwards=True, return_sequences=True)\n",
        "    model.add(Bidirectional(lstm_fw, backward_layer=lstm_bw))\n",
        "\n",
        "    model.add(TimeDistributed(Dense(256, activation='relu')))\n",
        "    model.add(TimeDistributed(Dropout(0.25)))\n",
        "\n",
        "    model.add(GlobalAveragePooling1D())\n",
        "\n",
        "    model.add(Dense(128, activation='relu'))\n",
        "    model.add(Dropout(0.25))\n",
        "    model.add(Dense(len(CLASSES_LIST), activation='softmax'))\n",
        "\n",
        "    return model"
      ],
      "metadata": {
        "id": "R6688isMOgHV"
      },
      "execution_count": null,
      "outputs": []
    },
    {
      "cell_type": "code",
      "source": [
        "# Initialize the model\n",
        "model = create_model()"
      ],
      "metadata": {
        "id": "_6nIksEqPSpW"
      },
      "execution_count": null,
      "outputs": []
    },
    {
      "cell_type": "code",
      "source": [
        "model.summary()"
      ],
      "metadata": {
        "colab": {
          "base_uri": "https://localhost:8080/"
        },
        "id": "KoHSw4T6Pa52",
        "outputId": "043043de-b8de-42c7-b63a-2cf391db2d80"
      },
      "execution_count": null,
      "outputs": [
        {
          "output_type": "stream",
          "name": "stdout",
          "text": [
            "Model: \"sequential\"\n",
            "_________________________________________________________________\n",
            " Layer (type)                Output Shape              Param #   \n",
            "=================================================================\n",
            " time_distributed (TimeDist  (None, 16, 64, 64, 32)    896       \n",
            " ributed)                                                        \n",
            "                                                                 \n",
            " time_distributed_1 (TimeDi  (None, 16, 64, 64, 32)    128       \n",
            " stributed)                                                      \n",
            "                                                                 \n",
            " time_distributed_2 (TimeDi  (None, 16, 32, 32, 32)    0         \n",
            " stributed)                                                      \n",
            "                                                                 \n",
            " time_distributed_3 (TimeDi  (None, 16, 32, 32, 64)    18496     \n",
            " stributed)                                                      \n",
            "                                                                 \n",
            " time_distributed_4 (TimeDi  (None, 16, 32, 32, 64)    256       \n",
            " stributed)                                                      \n",
            "                                                                 \n",
            " time_distributed_5 (TimeDi  (None, 16, 16, 16, 64)    0         \n",
            " stributed)                                                      \n",
            "                                                                 \n",
            " time_distributed_6 (TimeDi  (None, 16, 16, 16, 128)   73856     \n",
            " stributed)                                                      \n",
            "                                                                 \n",
            " time_distributed_7 (TimeDi  (None, 16, 16, 16, 128)   512       \n",
            " stributed)                                                      \n",
            "                                                                 \n",
            " time_distributed_8 (TimeDi  (None, 16, 8, 8, 128)     0         \n",
            " stributed)                                                      \n",
            "                                                                 \n",
            " time_distributed_9 (TimeDi  (None, 16, 8, 8, 128)     0         \n",
            " stributed)                                                      \n",
            "                                                                 \n",
            " time_distributed_10 (TimeD  (None, 16, 8192)          0         \n",
            " istributed)                                                     \n",
            "                                                                 \n",
            " bidirectional (Bidirection  (None, 16, 64)            2105600   \n",
            " al)                                                             \n",
            "                                                                 \n",
            " time_distributed_11 (TimeD  (None, 16, 256)           16640     \n",
            " istributed)                                                     \n",
            "                                                                 \n",
            " time_distributed_12 (TimeD  (None, 16, 256)           0         \n",
            " istributed)                                                     \n",
            "                                                                 \n",
            " global_average_pooling1d (  (None, 256)               0         \n",
            " GlobalAveragePooling1D)                                         \n",
            "                                                                 \n",
            " dense_1 (Dense)             (None, 128)               32896     \n",
            "                                                                 \n",
            " dropout_2 (Dropout)         (None, 128)               0         \n",
            "                                                                 \n",
            " dense_2 (Dense)             (None, 2)                 258       \n",
            "                                                                 \n",
            "=================================================================\n",
            "Total params: 2249538 (8.58 MB)\n",
            "Trainable params: 2249090 (8.58 MB)\n",
            "Non-trainable params: 448 (1.75 KB)\n",
            "_________________________________________________________________\n"
          ]
        }
      ]
    },
    {
      "cell_type": "code",
      "source": [
        "# Initialize the early stoping with appropriate hyperparameters\n",
        "early_stopping = EarlyStopping(monitor='val_accuracy',\n",
        "                                        patience=10, restore_best_weights=True)\n"
      ],
      "metadata": {
        "id": "mQ_nF8IUQcjx"
      },
      "execution_count": null,
      "outputs": []
    },
    {
      "cell_type": "code",
      "source": [
        "# Initialize the ReduceLROnPlateau, it will reduce learning rate if model learning remains constant for given epochs\n",
        "reduce_lr = tf.keras.callbacks.ReduceLROnPlateau(monitor='val_loss',\n",
        "                                                 factor=0.6, patience=5, min_lr=0.00005, verbose=1)"
      ],
      "metadata": {
        "id": "dbgQ8JH6Qiis"
      },
      "execution_count": null,
      "outputs": []
    },
    {
      "cell_type": "code",
      "source": [
        "# Model comilation\n",
        "model.compile(loss='categorical_crossentropy', optimizer='sgd', metrics=[\"accuracy\"])"
      ],
      "metadata": {
        "id": "WtEhR-zqRXrD"
      },
      "execution_count": null,
      "outputs": []
    },
    {
      "cell_type": "code",
      "source": [
        "# Model training and validation\n",
        "model_history = model.fit(x=features_train, y=labels_train, epochs=50, batch_size=8,\n",
        "                                             shuffle=True, validation_split=0.2,\n",
        "                                             callbacks=[early_stopping, reduce_lr])"
      ],
      "metadata": {
        "colab": {
          "base_uri": "https://localhost:8080/"
        },
        "id": "JlrfiAgORG2_",
        "outputId": "76d9908e-a2ef-491f-85ff-f74e1285a1e0"
      },
      "execution_count": null,
      "outputs": [
        {
          "output_type": "stream",
          "name": "stdout",
          "text": [
            "Epoch 1/50\n",
            "180/180 [==============================] - 19s 48ms/step - loss: 0.6096 - accuracy: 0.6847 - val_loss: 0.6888 - val_accuracy: 0.5611 - lr: 0.0100\n",
            "Epoch 2/50\n",
            "180/180 [==============================] - 7s 39ms/step - loss: 0.4491 - accuracy: 0.7958 - val_loss: 0.6258 - val_accuracy: 0.6278 - lr: 0.0100\n",
            "Epoch 3/50\n",
            "180/180 [==============================] - 7s 38ms/step - loss: 0.3806 - accuracy: 0.8278 - val_loss: 0.7968 - val_accuracy: 0.5944 - lr: 0.0100\n",
            "Epoch 4/50\n",
            "180/180 [==============================] - 7s 39ms/step - loss: 0.3030 - accuracy: 0.8660 - val_loss: 0.3448 - val_accuracy: 0.8556 - lr: 0.0100\n",
            "Epoch 5/50\n",
            "180/180 [==============================] - 7s 39ms/step - loss: 0.2498 - accuracy: 0.8986 - val_loss: 0.3643 - val_accuracy: 0.8389 - lr: 0.0100\n",
            "Epoch 6/50\n",
            "180/180 [==============================] - 7s 38ms/step - loss: 0.1948 - accuracy: 0.9167 - val_loss: 0.3485 - val_accuracy: 0.8556 - lr: 0.0100\n",
            "Epoch 7/50\n",
            "180/180 [==============================] - 7s 39ms/step - loss: 0.1712 - accuracy: 0.9340 - val_loss: 0.7061 - val_accuracy: 0.7583 - lr: 0.0100\n",
            "Epoch 8/50\n",
            "180/180 [==============================] - 8s 43ms/step - loss: 0.1382 - accuracy: 0.9458 - val_loss: 0.3137 - val_accuracy: 0.8750 - lr: 0.0100\n",
            "Epoch 9/50\n",
            "180/180 [==============================] - 7s 40ms/step - loss: 0.1243 - accuracy: 0.9542 - val_loss: 0.4016 - val_accuracy: 0.8472 - lr: 0.0100\n",
            "Epoch 10/50\n",
            "180/180 [==============================] - 7s 38ms/step - loss: 0.0848 - accuracy: 0.9694 - val_loss: 0.2958 - val_accuracy: 0.8917 - lr: 0.0100\n",
            "Epoch 11/50\n",
            "180/180 [==============================] - 7s 39ms/step - loss: 0.0632 - accuracy: 0.9812 - val_loss: 0.3366 - val_accuracy: 0.8889 - lr: 0.0100\n",
            "Epoch 12/50\n",
            "180/180 [==============================] - 7s 40ms/step - loss: 0.0439 - accuracy: 0.9847 - val_loss: 0.5650 - val_accuracy: 0.8306 - lr: 0.0100\n",
            "Epoch 13/50\n",
            "180/180 [==============================] - 7s 38ms/step - loss: 0.0458 - accuracy: 0.9861 - val_loss: 0.3562 - val_accuracy: 0.8972 - lr: 0.0100\n",
            "Epoch 14/50\n",
            "180/180 [==============================] - 7s 39ms/step - loss: 0.0314 - accuracy: 0.9917 - val_loss: 0.2721 - val_accuracy: 0.9167 - lr: 0.0100\n",
            "Epoch 15/50\n",
            "180/180 [==============================] - 7s 38ms/step - loss: 0.0144 - accuracy: 0.9979 - val_loss: 0.2625 - val_accuracy: 0.9139 - lr: 0.0100\n",
            "Epoch 16/50\n",
            "180/180 [==============================] - 7s 39ms/step - loss: 0.0157 - accuracy: 0.9958 - val_loss: 0.3539 - val_accuracy: 0.9083 - lr: 0.0100\n",
            "Epoch 17/50\n",
            "180/180 [==============================] - 7s 39ms/step - loss: 0.0088 - accuracy: 0.9979 - val_loss: 0.3629 - val_accuracy: 0.8972 - lr: 0.0100\n",
            "Epoch 18/50\n",
            "180/180 [==============================] - 7s 40ms/step - loss: 0.0067 - accuracy: 0.9993 - val_loss: 0.3180 - val_accuracy: 0.9222 - lr: 0.0100\n",
            "Epoch 19/50\n",
            "180/180 [==============================] - 7s 40ms/step - loss: 0.0060 - accuracy: 0.9986 - val_loss: 0.3056 - val_accuracy: 0.9167 - lr: 0.0100\n",
            "Epoch 20/50\n",
            "179/180 [============================>.] - ETA: 0s - loss: 0.0033 - accuracy: 0.9993\n",
            "Epoch 20: ReduceLROnPlateau reducing learning rate to 0.005999999865889549.\n",
            "180/180 [==============================] - 7s 39ms/step - loss: 0.0033 - accuracy: 0.9993 - val_loss: 0.3323 - val_accuracy: 0.9194 - lr: 0.0100\n",
            "Epoch 21/50\n",
            "180/180 [==============================] - 7s 40ms/step - loss: 0.0028 - accuracy: 0.9993 - val_loss: 0.3404 - val_accuracy: 0.9278 - lr: 0.0060\n",
            "Epoch 22/50\n",
            "180/180 [==============================] - 7s 39ms/step - loss: 0.0042 - accuracy: 0.9979 - val_loss: 0.3137 - val_accuracy: 0.9250 - lr: 0.0060\n",
            "Epoch 23/50\n",
            "180/180 [==============================] - 7s 41ms/step - loss: 0.0022 - accuracy: 0.9993 - val_loss: 0.3422 - val_accuracy: 0.9194 - lr: 0.0060\n",
            "Epoch 24/50\n",
            "180/180 [==============================] - 7s 39ms/step - loss: 0.0034 - accuracy: 0.9993 - val_loss: 0.3349 - val_accuracy: 0.9222 - lr: 0.0060\n",
            "Epoch 25/50\n",
            "179/180 [============================>.] - ETA: 0s - loss: 0.0025 - accuracy: 0.9986\n",
            "Epoch 25: ReduceLROnPlateau reducing learning rate to 0.003600000031292438.\n",
            "180/180 [==============================] - 7s 40ms/step - loss: 0.0025 - accuracy: 0.9986 - val_loss: 0.3376 - val_accuracy: 0.9250 - lr: 0.0060\n",
            "Epoch 26/50\n",
            "180/180 [==============================] - 7s 40ms/step - loss: 0.0023 - accuracy: 0.9986 - val_loss: 0.3407 - val_accuracy: 0.9222 - lr: 0.0036\n",
            "Epoch 27/50\n",
            "180/180 [==============================] - 7s 40ms/step - loss: 0.0022 - accuracy: 0.9993 - val_loss: 0.3301 - val_accuracy: 0.9250 - lr: 0.0036\n",
            "Epoch 28/50\n",
            "180/180 [==============================] - 7s 40ms/step - loss: 0.0025 - accuracy: 0.9986 - val_loss: 0.3320 - val_accuracy: 0.9250 - lr: 0.0036\n",
            "Epoch 29/50\n",
            "180/180 [==============================] - 7s 39ms/step - loss: 0.0021 - accuracy: 0.9986 - val_loss: 0.3338 - val_accuracy: 0.9278 - lr: 0.0036\n",
            "Epoch 30/50\n",
            "179/180 [============================>.] - ETA: 0s - loss: 0.0023 - accuracy: 0.9993\n",
            "Epoch 30: ReduceLROnPlateau reducing learning rate to 0.0021599999628961085.\n",
            "180/180 [==============================] - 7s 40ms/step - loss: 0.0023 - accuracy: 0.9993 - val_loss: 0.3365 - val_accuracy: 0.9250 - lr: 0.0036\n",
            "Epoch 31/50\n",
            "180/180 [==============================] - 7s 39ms/step - loss: 0.0021 - accuracy: 0.9993 - val_loss: 0.3273 - val_accuracy: 0.9278 - lr: 0.0022\n"
          ]
        }
      ]
    },
    {
      "cell_type": "markdown",
      "source": [
        "---\n",
        "\n",
        "**Evaluating and Analysing Performance of Model on Test Data**\n",
        "\n",
        "\n"
      ],
      "metadata": {
        "id": "t8cGPSpqXPpQ"
      }
    },
    {
      "cell_type": "code",
      "source": [
        "# Evaluate model on test dataset\n",
        "\n",
        "predicted_labels = model.predict(features_test)\n",
        "predicted_labels = np.argmax(predicted_labels, axis=1)\n",
        "original_labels = np.argmax(labels_test, axis=1)"
      ],
      "metadata": {
        "colab": {
          "base_uri": "https://localhost:8080/"
        },
        "id": "bUpCRCt3XcRd",
        "outputId": "b4581073-e296-41a6-c4d4-1859bf52b808"
      },
      "execution_count": null,
      "outputs": [
        {
          "output_type": "stream",
          "name": "stdout",
          "text": [
            "7/7 [==============================] - 3s 30ms/step\n"
          ]
        }
      ]
    },
    {
      "cell_type": "code",
      "source": [
        "# Create confusion matrix for test data predictions\n",
        "\n",
        "ax = plt.subplot()\n",
        "cm = confusion_matrix(original_labels, predicted_labels)\n",
        "sns.heatmap(cm, annot=True, fmt='g', ax=ax)\n",
        "ax.set_xlabel('Predicted labels')\n",
        "ax.set_ylabel('True labels')\n",
        "ax.set_title('Confusion Matrix')\n",
        "ax.xaxis.set_ticklabels(['True', 'False'])\n",
        "ax.yaxis.set_ticklabels(['NonViolence', 'Violence'])"
      ],
      "metadata": {
        "colab": {
          "base_uri": "https://localhost:8080/",
          "height": 541
        },
        "id": "Iu7g_G05e1wi",
        "outputId": "786688a6-3369-4f1b-befb-2ea417c5c9b2"
      },
      "execution_count": null,
      "outputs": [
        {
          "output_type": "execute_result",
          "data": {
            "text/plain": [
              "[Text(0, 0.5, 'NonViolence'), Text(0, 1.5, 'Violence')]"
            ]
          },
          "metadata": {},
          "execution_count": 15
        },
        {
          "output_type": "display_data",
          "data": {
            "text/plain": [
              "<Figure size 800x550 with 2 Axes>"
            ],
            "image/png": "[encoded data removed]"
          },
          "metadata": {}
        }
      ]
    },
    {
      "cell_type": "code",
      "source": [
        "# Generate classfication report for the test data\n",
        "\n",
        "Classification_Report = classification_report(original_labels, predicted_labels)\n",
        "print('Classification Report is : \\n', Classification_Report)"
      ],
      "metadata": {
        "colab": {
          "base_uri": "https://localhost:8080/"
        },
        "id": "IMqhnWBKY_-d",
        "outputId": "50889473-c79d-4a67-9050-548cbcf04493"
      },
      "execution_count": null,
      "outputs": [
        {
          "output_type": "stream",
          "name": "stdout",
          "text": [
            "Classification Report is : \n",
            "               precision    recall  f1-score   support\n",
            "\n",
            "           0       0.93      0.92      0.92        99\n",
            "           1       0.92      0.93      0.93       101\n",
            "\n",
            "    accuracy                           0.93       200\n",
            "   macro avg       0.93      0.92      0.92       200\n",
            "weighted avg       0.93      0.93      0.92       200\n",
            "\n"
          ]
        }
      ]
    },
    {
      "cell_type": "code",
      "source": [],
      "metadata": {
        "id": "Y1FCCAg3eBI5"
      },
      "execution_count": null,
      "outputs": []
    }
  ]
}